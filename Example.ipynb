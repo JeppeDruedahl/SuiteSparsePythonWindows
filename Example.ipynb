{
 "cells": [
  {
   "cell_type": "markdown",
   "metadata": {},
   "source": [
    "# Setup"
   ]
  },
  {
   "cell_type": "code",
   "execution_count": 1,
   "metadata": {},
   "outputs": [],
   "source": [
    "import os\n",
    "import ctypes as ct"
   ]
  },
  {
   "cell_type": "code",
   "execution_count": 2,
   "metadata": {},
   "outputs": [],
   "source": [
    "def delink(cppfile,do_print=True):\n",
    "    \"\"\" delinking cppfile is necessary before recompiling \n",
    "    (otherwise kernal must be re-started) \"\"\"\n",
    "    \n",
    "    # a. get handle\n",
    "    handle = cppfile._handle\n",
    "\n",
    "    # b. delete linking variable\n",
    "    del cppfile\n",
    "\n",
    "    # c. free handle\n",
    "    ct.windll.kernel32.FreeLibrary.argtypes = [ct.wintypes.HMODULE]\n",
    "    ct.windll.kernel32.FreeLibrary(handle)\n",
    "    \n",
    "    if do_print:\n",
    "        print('cppfile delinked succesfully')\n",
    "        \n",
    "def link(filename,do_print=True):\n",
    "    \"\"\" link to filename with hack for getting openmp to work \"\"\"\n",
    "    \n",
    "    # a. load\n",
    "    cppfile = ct.cdll.LoadLibrary(filename)\n",
    "    \n",
    "    # b. setup openmp and delink\n",
    "    cppfile.setup_omp()\n",
    "    delink(cppfile,do_print=False)\n",
    "    \n",
    "    # c. link again\n",
    "    cppfile = ct.cdll.LoadLibrary(filename)\n",
    "    \n",
    "    if do_print:\n",
    "        print('cppfile linked succesfully')\n",
    "    \n",
    "    return cppfile"
   ]
  },
  {
   "cell_type": "markdown",
   "metadata": {},
   "source": [
    "# Compile"
   ]
  },
  {
   "cell_type": "code",
   "execution_count": 3,
   "metadata": {},
   "outputs": [
    {
     "name": "stdout",
     "output_type": "stream",
     "text": [
      "cppfile compiled sucessfully\n"
     ]
    }
   ],
   "source": [
    "result = os.system('compile.bat') # build the project in \"build/Example.sln\"\n",
    "if result == 0:\n",
    "    print('cppfile compiled sucessfully')"
   ]
  },
  {
   "cell_type": "markdown",
   "metadata": {},
   "source": [
    "# Link"
   ]
  },
  {
   "cell_type": "code",
   "execution_count": 4,
   "metadata": {},
   "outputs": [
    {
     "name": "stdout",
     "output_type": "stream",
     "text": [
      "cppfile linked succesfully\n"
     ]
    }
   ],
   "source": [
    "cppfile = link('build/Release/example.dll')"
   ]
  },
  {
   "cell_type": "markdown",
   "metadata": {},
   "source": [
    "# Run"
   ]
  },
  {
   "cell_type": "code",
   "execution_count": 5,
   "metadata": {},
   "outputs": [
    {
     "name": "stdout",
     "output_type": "stream",
     "text": [
      "[1.50769231 1.26153846 0.64615385]\n"
     ]
    }
   ],
   "source": [
    "# a. create vectors\n",
    "diag = np.array([1.5,2.5,3.5])\n",
    "x = np.zeros(3)\n",
    "\n",
    "# b. get pointers\n",
    "p_diag = np.ctypeslib.as_ctypes(diag)\n",
    "p_x = np.ctypeslib.as_ctypes(x)\n",
    "\n",
    "# c. call\n",
    "cppfile.run(p_diag,p_x)\n",
    "\n",
    "# d. print result\n",
    "print(x)"
   ]
  },
  {
   "cell_type": "markdown",
   "metadata": {},
   "source": [
    "**Print log.txt:**"
   ]
  },
  {
   "cell_type": "code",
   "execution_count": 6,
   "metadata": {},
   "outputs": [
    {
     "name": "stdout",
     "output_type": "stream",
     "text": [
      "\n",
      "%%MatrixMarket matrix coordinate real symmetric\n",
      "3 3 5\n",
      "1 1 1.5\n",
      "2 1 -1\n",
      "2 2 2.5\n",
      "3 2 -1\n",
      "3 3 3.5\n",
      "\n",
      "x:\n",
      "0: 1.50769\n",
      "1: 1.26154\n",
      "2: 0.646154\n",
      "\n",
      "omp_get_num_procs() = 8\n",
      "omp_get_thread_num() = 0\n",
      "omp_get_thread_num() = 6\n",
      "omp_get_thread_num() = 2\n",
      "omp_get_thread_num() = 3\n",
      "omp_get_thread_num() = 4\n",
      "omp_get_thread_num() = 5\n",
      "omp_get_thread_num() = 1\n",
      "omp_get_thread_num() = 7\n",
      "\n"
     ]
    }
   ],
   "source": [
    "with open('log.txt', 'r') as f:\n",
    "    print(f.read())"
   ]
  },
  {
   "cell_type": "markdown",
   "metadata": {},
   "source": [
    "# Delink"
   ]
  },
  {
   "cell_type": "code",
   "execution_count": 7,
   "metadata": {},
   "outputs": [
    {
     "name": "stdout",
     "output_type": "stream",
     "text": [
      "cppfile delinked succesfully\n"
     ]
    }
   ],
   "source": [
    "delink(cppfile)"
   ]
  }
 ],
 "metadata": {
  "kernelspec": {
   "display_name": "Python 3",
   "language": "python",
   "name": "python3"
  },
  "language_info": {
   "codemirror_mode": {
    "name": "ipython",
    "version": 3
   },
   "file_extension": ".py",
   "mimetype": "text/x-python",
   "name": "python",
   "nbconvert_exporter": "python",
   "pygments_lexer": "ipython3",
   "version": "3.7.1"
  },
  "toc": {
   "base_numbering": 1,
   "nav_menu": {},
   "number_sections": true,
   "sideBar": true,
   "skip_h1_title": false,
   "title_cell": "Table of Contents",
   "title_sidebar": "Contents",
   "toc_cell": true,
   "toc_position": {},
   "toc_section_display": true,
   "toc_window_display": false
  },
  "toc-autonumbering": true
 },
 "nbformat": 4,
 "nbformat_minor": 2
}
